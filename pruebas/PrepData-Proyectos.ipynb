{
 "cells": [
  {
   "cell_type": "code",
   "execution_count": 75,
   "metadata": {
    "collapsed": true
   },
   "outputs": [],
   "source": [
    "from __future__ import absolute_import, division, print_function, unicode_literals\n",
    "import pandas as pd\n",
    "import json\n",
    "import jsonlines\n",
    "import re\n",
    "import numpy as np"
   ]
  },
  {
   "cell_type": "code",
   "execution_count": 76,
   "metadata": {
    "collapsed": true
   },
   "outputs": [],
   "source": [
    "proy_info_data=pd.read_csv(\"data/base_juguete - proyecto_info.tsv\", sep='\\t',na_values=None, keep_default_na=False)\n",
    "proy_talentos_data=pd.read_csv(\"data/base_juguete - proyecto_talentos.tsv\", sep='\\t',na_values=None, keep_default_na=False)"
   ]
  },
  {
   "cell_type": "code",
   "execution_count": 77,
   "metadata": {
    "collapsed": false
   },
   "outputs": [],
   "source": [
    "#proy_info_data"
   ]
  },
  {
   "cell_type": "code",
   "execution_count": 78,
   "metadata": {
    "collapsed": false
   },
   "outputs": [],
   "source": [
    "#ENTIDADES\n",
    "\n",
    "class info(object):\n",
    "    uid=\"\"\n",
    "    numero=\"\"\n",
    "    pais=\"\"\n",
    "    nombre=\"\"\n",
    "    giro=\"\"\n",
    "    proyecto=\"\"\n",
    "    descproyecto=\"\"\n",
    "    objetivo=\"\"\n",
    "    entregable=\"\"\n",
    "    ubicacion=\"\"\n",
    "    inicio=\"\"\n",
    "    fin=\"\"\n",
    "    pago=\"\"\n",
    "\n",
    "\n",
    "class talentos(object):\n",
    "    uid=\"\"\n",
    "    grados=\"\"\n",
    "    experiencia=\"\"\n",
    "    funciones=\"\"\n",
    "    idiomas=\"\"\n",
    "    almamater=\"\"\n",
    "    habilidades=\"\"\n",
    "\n",
    "    def __init__(self, grados, experiencia, funciones, idiomas, almamater, habilidades):\n",
    "        self.grados=grados\n",
    "        self.experiencia=experiencia\n",
    "        self.funciones=funciones\n",
    "        self.idiomas=idiomas\n",
    "        self.almamater=almamater\n",
    "        self.habilidades=habilidades\n",
    "\n",
    "        \n",
    "    def __json__(self):\n",
    "        return {'PRO_TITULO':self.grados, 'PRO_EXP':self.experiencia, 'PRO_FUNCIONES':self.funciones,'PRO_IDIOMAS':self.idiomas, \n",
    "               'PRO_INST':self.almamater, 'PRO_HABILIDADES':self.habilidades}\n",
    "\n",
    "class proyecto(object):\n",
    "    uid=\"\"\n",
    "    numero=\"\"\n",
    "    pais=\"\"\n",
    "    nombre=\"\"\n",
    "    giro=\"\"\n",
    "    proyecto=\"\"\n",
    "    descproyecto=\"\"\n",
    "    objetivo=\"\"\n",
    "    entregable=\"\"\n",
    "    ubicacion=\"\"\n",
    "    inicio=\"\"\n",
    "    fin=\"\"\n",
    "    pago=\"\"\n",
    "    talentos=[]\n",
    "    \n",
    "    def __init__(self, uid, numero, pais, nombre, giro, proyecto, descproyecto, objetivo, entregable, ubicacion, inicio, fin, pago):\n",
    "        self.uid = uid\n",
    "        self.numero = numero\n",
    "        self.pais = pais\n",
    "        self.nombre = nombre\n",
    "        self.giro = giro\n",
    "        self.proyecto = proyecto\n",
    "        self.descproyecto = descproyecto\n",
    "        self.objetivo = objetivo\n",
    "        self.entregable = entregable\n",
    "        self.ubicacion = ubicacion\n",
    "        self.inicio = inicio\n",
    "        self.fin = fin\n",
    "        self.pago = pago\n",
    "        \n",
    "        \n",
    "    def __json__(self):\n",
    "        return {'uid': self.uid, 'numero': self.numero, 'pais':self.pais ,'nombre':self.nombre,\n",
    "                'giro':self.giro, 'proyecto':self.proyecto, 'descproyecto':self.descproyecto,\n",
    "                'objetivo':self.objetivo,'entregable':self.entregable, 'ubicacion':self.ubicacion,'inicio':self.inicio,\n",
    "                'fin':self.fin,'pago':self.pago,'talentos':self.talentos}\n",
    "    \n",
    "    \n",
    "class MyEncoder(json.JSONEncoder):\n",
    "    \"\"\"\n",
    "    JSONEncoder subclass that leverages an object's `__json__()` method,\n",
    "    if available, to obtain its default JSON representation. \n",
    "\n",
    "    \"\"\"\n",
    "    def default(self, obj):\n",
    "        if hasattr(obj, '__json__'):\n",
    "            return obj.__json__()\n",
    "        return json.JSONEncoder.default(self, obj)\n"
   ]
  },
  {
   "cell_type": "code",
   "execution_count": 79,
   "metadata": {
    "collapsed": true
   },
   "outputs": [],
   "source": [
    "'''\n",
    "HELPERS : \n",
    "'''\n",
    "def parse_doc_list_plain(doc):        \n",
    "    '''Preprocesing method, this code dont remove the character with graphic accent.'''\n",
    "    red = ur'[^,a-z\\u00E7\\u00F1\\u00E1\\u00E9\\u00ED\\u00F3\\u00FA\\u00E0\\u00E8\\u00EC\\u00F2\\u00F9\\u00E4\\u00EB\\u00EF\\u00F6\\u00FC\\u00E2\\u00EA\\u00EE\\u00F4\\u00FB ]'\n",
    "    ##sandbox    \n",
    "    \n",
    "    art_vect = re.sub(r' +',' ', re.sub(red,'',re.sub(ur'\\u201c',' ',re.sub('\\n',' ',doc).lower()))) # Remove the most of the symbols. \n",
    "    art_vect = re.sub(',+',',',art_vect) # \n",
    "    art_vect = re.sub(', ',',',art_vect) # ,\\s\\+   remove space after comma, it could be improved\n",
    "    art_vect = re.sub('^,','',art_vect) # ,\\s\\+   remove space after comma, it could be improved    \n",
    "    art_vect = re.sub(r' ','_',art_vect) # Replace the space by underscore.\n",
    "    art_vect = re.sub(r',$','',art_vect)  # Remove the last comma character. just in case.\n",
    "    return art_vect"
   ]
  },
  {
   "cell_type": "code",
   "execution_count": 80,
   "metadata": {
    "collapsed": true
   },
   "outputs": [],
   "source": [
    "test_text = u',La mansion puprpura de Zimbagüe es la casa, que,,,hemos creado para tí, donde,...'"
   ]
  },
  {
   "cell_type": "code",
   "execution_count": 81,
   "metadata": {
    "collapsed": false
   },
   "outputs": [
    {
     "data": {
      "text/plain": [
       "u'la_mansion_puprpura_de_zimbag\\xfce_es_la_casa,que,hemos_creado_para_t\\xed,donde'"
      ]
     },
     "execution_count": 81,
     "metadata": {},
     "output_type": "execute_result"
    }
   ],
   "source": [
    "parse_doc_list_plain(test_text)"
   ]
  },
  {
   "cell_type": "code",
   "execution_count": 82,
   "metadata": {
    "collapsed": false
   },
   "outputs": [],
   "source": [
    "proyectos_data = []\n",
    "\n",
    "for i in proy_info_data.itertuples():\n",
    "    data = proyecto(i.uid,i.numero,i.pais,i.nombre,\n",
    "                    i.giro,i.descproyecto,i.objetivo,i.proyecto,i.entregable,\n",
    "                    i.ubicacion,i.inicio,i.fin,i.pago)\n",
    "    match_talentos = proy_talentos_data['uid'] == data.uid\n",
    "    data.talentos = [talentos(grados=ta.grados,experiencia=ta.experiencia,funciones=ta.funciones,\n",
    "                              idiomas=ta.idiomas,almamater=ta.almamater,habilidades=ta.habilidades) \n",
    "                     for ta in proy_talentos_data[match_talentos].itertuples() ]\n",
    "    #match_talentos = proy_talentos_data['uid'] == data.uid\n",
    "    proyectos_data.append(json.dumps(data,cls=MyEncoder))"
   ]
  },
  {
   "cell_type": "markdown",
   "metadata": {},
   "source": [
    "### PASO 0 : Preprocesamiento"
   ]
  },
  {
   "cell_type": "code",
   "execution_count": 83,
   "metadata": {
    "collapsed": false
   },
   "outputs": [],
   "source": [
    "jlArray = []\n",
    "for item in jsonlines.Reader(proyectos_data).iter():\n",
    "    preproc = {}    \n",
    "    preproc[u'PRO_ID'] = item[u'numero']\n",
    "    preproc[u'uid'] = item[u'uid']\n",
    "    preproc[u'PRO_PAIS'] = item[u'pais']\n",
    "    preproc[u'PRO_NOMBRE'] = item[u'nombre']\n",
    "    preproc[u'PRO_PROY'] = item[u'proyecto']\n",
    "    preproc[u'PRO_DESC'] = item[u'descproyecto']\n",
    "    preproc[u'PRO_OBJ'] = item[u'objetivo']\n",
    "    preproc[u'PRO_ENTR'] = item[u'entregable']\n",
    "    preproc[u'PRO_UBIC'] = item[u'ubicacion']\n",
    "    preproc[u'PRO_TITULO'] = parse_doc_list_plain(','.join([u'{0}'.format(cur[u'PRO_TITULO']) for cur in item['talentos'] if cur != 'NaN']))\n",
    "    preproc[u'PRO_EXP'] = parse_doc_list_plain(','.join([u'{0}'.format(cur[u'PRO_EXP']) for cur in item['talentos'] if cur != 'NaN']))\n",
    "    preproc[u'PRO_FUNCIONES'] = parse_doc_list_plain(','.join([u'{0}'.format(cur[u'PRO_FUNCIONES']) for cur in item['talentos'] if cur != 'NaN']))\n",
    "    preproc[u'PRO_IDIOMAS'] = parse_doc_list_plain(','.join([u'{0}'.format(cur[u'PRO_IDIOMAS']) for cur in item['talentos'] if cur != 'NaN']))\n",
    "    preproc[u'PRO_INST'] = parse_doc_list_plain(','.join([u'{0}'.format(cur[u'PRO_INST']) for cur in item['talentos'] if cur != 'NaN']))\n",
    "    preproc[u'PRO_HABILIDADES'] = parse_doc_list_plain(','.join([u'{0}'.format(cur[u'PRO_HABILIDADES']) for cur in item['talentos'] if cur != 'NaN']))\n",
    "    jlArray.append(preproc)"
   ]
  },
  {
   "cell_type": "code",
   "execution_count": 84,
   "metadata": {
    "collapsed": true
   },
   "outputs": [],
   "source": [
    "dfproyectos = pd.DataFrame(jlArray)"
   ]
  },
  {
   "cell_type": "code",
   "execution_count": 85,
   "metadata": {
    "collapsed": true
   },
   "outputs": [],
   "source": [
    "dfproyectos.to_csv('proyectos.csv')"
   ]
  }
 ],
 "metadata": {
  "kernelspec": {
   "display_name": "Python 2",
   "language": "python",
   "name": "python2"
  },
  "language_info": {
   "codemirror_mode": {
    "name": "ipython",
    "version": 2
   },
   "file_extension": ".py",
   "mimetype": "text/x-python",
   "name": "python",
   "nbconvert_exporter": "python",
   "pygments_lexer": "ipython2",
   "version": "2.7.12"
  }
 },
 "nbformat": 4,
 "nbformat_minor": 0
}
