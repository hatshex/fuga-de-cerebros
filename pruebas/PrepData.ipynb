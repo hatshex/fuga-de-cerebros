{
 "cells": [
  {
   "cell_type": "code",
   "execution_count": 1,
   "metadata": {
    "collapsed": true
   },
   "outputs": [],
   "source": [
    "from __future__ import absolute_import, division, print_function, unicode_literals\n",
    "import pandas as pd\n",
    "import json\n",
    "import jsonlines\n",
    "import re"
   ]
  },
  {
   "cell_type": "code",
   "execution_count": 21,
   "metadata": {
    "collapsed": false
   },
   "outputs": [],
   "source": [
    "pe_data=pd.read_csv(\"data/base_juguete - person.tsv\", sep='\\t')\n",
    "la_data=pd.read_csv(\"data/base_juguete - idioma.tsv\", sep='\\t')\n",
    "ed_data=pd.read_csv(\"data/base_juguete - Educacion.tsv\", sep='\\t')\n",
    "ha_data=pd.read_csv(\"data/base_juguete - Habilidades.tsv\", sep='\\t')\n",
    "tr_data=pd.read_csv(\"data/base_juguete - Trabajo.tsv\", sep='\\t')"
   ]
  },
  {
   "cell_type": "code",
   "execution_count": 22,
   "metadata": {
    "collapsed": false
   },
   "outputs": [],
   "source": [
    "####PURAS ENTIDADES\n",
    "\n",
    "class persona(object):\n",
    "    uid=\"\"\n",
    "    nombre=\"\"\n",
    "    \n",
    "\n",
    "class idiomas(object):\n",
    "    uid=\"\"\n",
    "    nombre=\"\"\n",
    "    idioma_nivel=\"\"\n",
    "    \n",
    "    def __init__(self, nombre, idioma_nivel):\n",
    "        self.nombre = nombre\n",
    "        self.idioma_nivel = idioma_nivel\n",
    "        \n",
    "    def __json__(self):\n",
    "        return {'idioma':self.nombre, 'idioma_nivel':self.idioma_nivel}\n",
    "\n",
    "class habilidades(object):\n",
    "    tipo=\"\"\n",
    "    descripcion=\"\"\n",
    "    \n",
    "    def __init__(self, tipo, descripcion):\n",
    "        self.tipo = tipo\n",
    "        self.descripcion = descripcion\n",
    "        \n",
    "    def __json__(self):\n",
    "        return {'tipo':self.tipo, 'descripcion':self.descripcion}\n",
    "\n",
    "\n",
    "class educacion(object):\n",
    "    uid=\"\"\n",
    "    institucion=\"\"\n",
    "    area=\"\"\n",
    "    fecha_inicio=\"\"\n",
    "    fecha_fin=\"\"\n",
    "    titulo=\"\"\n",
    "    extra_curriculares=\"\"\n",
    "    \n",
    "    def __init__(self,institucion, area, fecha_inicio, fecha_fin, titulo):        \n",
    "        self.institucion=institucion\n",
    "        self.area=area\n",
    "        self.fecha_inicio=fecha_inicio\n",
    "        self.fecha_fin=fecha_fin\n",
    "        self.titulo=titulo\n",
    "        #self.extra_curriculares=extra_curriculares\n",
    "        \n",
    "    def __json__(self):\n",
    "        return {'institucion':self.institucion, 'area':self.area, 'fecha_inicio':self.fecha_inicio,\n",
    "                'fecha_fin':self.fecha_fin, 'titulo':self.titulo}\n",
    "        \n",
    "class trabajos(object):\n",
    "    uid=\"\"\n",
    "    titulo_posicion=\"\"\n",
    "    resumen=\"\"\n",
    "    fecha_inicio=\"\"\n",
    "    fecha_fin=\"\"\n",
    "    actual=\"\"\n",
    "    empresa=\"\"\n",
    "    area=\"\"\n",
    "    tipo=\"\"\n",
    "    industria=\"\"\n",
    "    voluntariado=\"\"\n",
    "    \n",
    "    def __init__(self, titulo_posicion, empresa, area, tipo, industria, voluntariado):\n",
    "        self.titulo_posicion=titulo_posicion\n",
    "        #self.resumen=resumen\n",
    "        #self.fecha_inicio=fecha_inicio\n",
    "        #self.fecha_fin=fecha_fin\n",
    "        #self.actual=actual\n",
    "        self.empresa=empresa\n",
    "        self.area=area\n",
    "        self.tipo=tipo\n",
    "        self.industria=industria\n",
    "        self.voluntariado=voluntariado\n",
    "        \n",
    "    def __json__(self):\n",
    "        return {'titulo_posicion': self.titulo_posicion, 'empresa': self.empresa, \n",
    "                'area':self.area, 'tipo':self.tipo, 'industria':self.industria,\n",
    "                'voluntariado':self.voluntariado}\n",
    "        \n",
    "class talento(object):\n",
    "    uid=''\n",
    "    nombre=''\n",
    "    trabajos=[]\n",
    "    cursos = []\n",
    "    educacion = []\n",
    "    certificaciones = []\n",
    "    habilidades = []\n",
    "    idiomas = []\n",
    "    patentes = []\n",
    "    publicaciones = []    \n",
    "    \n",
    "    def __init__(self, uid, nombre):\n",
    "        self.uid = uid\n",
    "        self.nombre = nombre\n",
    "        \n",
    "    def __json__(self):\n",
    "        return {'uid': self.uid, 'nombre': self.nombre, 'trabajos':self.trabajos, \n",
    "                'educacion':self.educacion, 'habilidades':self.habilidades,\n",
    "               'idiomas':self.idiomas}\n",
    "    \n",
    "\n",
    "class MyEncoder(json.JSONEncoder):\n",
    "    \"\"\"\n",
    "    JSONEncoder subclass that leverages an object's `__json__()` method,\n",
    "    if available, to obtain its default JSON representation. \n",
    "\n",
    "    \"\"\"\n",
    "    def default(self, obj):\n",
    "        if hasattr(obj, '__json__'):\n",
    "            return obj.__json__()\n",
    "        return json.JSONEncoder.default(self, obj)\n",
    "        \n",
    "    "
   ]
  },
  {
   "cell_type": "code",
   "execution_count": 23,
   "metadata": {
    "collapsed": false
   },
   "outputs": [],
   "source": [
    "'''\n",
    "HELPERS : \n",
    "'''\n",
    "def parse_doc_list_plain(doc):        \n",
    "    '''Preprocesing method, this code dont remove the character with graphic accent.'''\n",
    "    red = ur'[^,|:a-z\\u00E7\\u00F1\\u00E1\\u00E9\\u00ED\\u00F3\\u00FA\\u00E0\\u00E8\\u00EC\\u00F2\\u00F9\\u00E4\\u00EB\\u00EF\\u00F6\\u00FC\\u00E2\\u00EA\\u00EE\\u00F4\\u00FB ]'\n",
    "    ##sandbox    \n",
    "    \n",
    "    art_vect = re.sub(r' +',' ', re.sub(red,'',re.sub(ur'\\u201c',' ',re.sub('\\n',' ',doc).lower()))) # Remove the most of the symbols. \n",
    "    art_vect = re.sub(', ',',',art_vect) # ,\\s\\+   remove space after comma, it could be improved\n",
    "    art_vect = re.sub(r' ','_',art_vect) # Replace the space by underscore.\n",
    "    art_vect = re.sub(r',$','',art_vect)  # Remove the last comma character. just in case.\n",
    "    return art_vect"
   ]
  },
  {
   "cell_type": "code",
   "execution_count": 24,
   "metadata": {
    "collapsed": true
   },
   "outputs": [],
   "source": [
    "test_text = u'La mansion puprpura de Zimbagüe es la casa, que hemos creado para tí, donde,...'"
   ]
  },
  {
   "cell_type": "code",
   "execution_count": 25,
   "metadata": {
    "collapsed": false
   },
   "outputs": [
    {
     "data": {
      "text/plain": [
       "u'la_mansion_puprpura_de_zimbag\\xfce_es_la_casa,que_hemos_creado_para_t\\xed,donde'"
      ]
     },
     "execution_count": 25,
     "metadata": {},
     "output_type": "execute_result"
    }
   ],
   "source": [
    "parse_doc_list_plain(test_text)"
   ]
  },
  {
   "cell_type": "code",
   "execution_count": 31,
   "metadata": {
    "collapsed": false
   },
   "outputs": [],
   "source": [
    "talentos_data = []\n",
    "\n",
    "for pe in pe_data.itertuples():\n",
    "    data = talento(pe.uid,pe.nombre)\n",
    "    match_la = la_data['uid'] == data.uid\n",
    "    match_ed = ed_data['uid'] == data.uid\n",
    "    match_ha = ha_data['uid'] == data.uid\n",
    "    match_tr = tr_data['uid'] == data.uid    \n",
    "    data.idiomas = [ idiomas(nombre = lad.idioma, idioma_nivel=lad.idioma_nivel) for lad in la_data[match_la].itertuples()]\n",
    "    data.educacion = [educacion(institucion = edu.institucion, area = edu.area_estudio, titulo = edu.titulo, \n",
    "                         fecha_inicio = edu.inicio, fecha_fin = edu.fin) for edu in ed_data[match_ed].itertuples()]\n",
    "    data.habilidades = [habilidades(tipo=hab.tipo, descripcion=hab.habilidades) for hab in ha_data[match_ha].itertuples() ]\n",
    "    data.trabajos = [trabajos(titulo_posicion=tra.posicion,empresa=tra.empresa, \n",
    "                              area=tra.area, tipo=tra.tipo, voluntariado = tra.voluntariado, industria = tra.industria ) for tra in tr_data[match_tr].itertuples()]\n",
    "    talentos_data.append(json.dumps(data,cls=MyEncoder))\n"
   ]
  },
  {
   "cell_type": "markdown",
   "metadata": {},
   "source": [
    "### PASO 0 : Preprocesamiento"
   ]
  },
  {
   "cell_type": "code",
   "execution_count": 30,
   "metadata": {
    "collapsed": false
   },
   "outputs": [],
   "source": [
    "jlArray = []\n",
    "for item in jsonlines.Reader(talentos_data).iter():\n",
    "    preproc = {}\n",
    "    preproc['educacion'] = parse_doc_list_plain('|'.join([u'{0}:{1}'.format(cur[u'institucion'],cur[u'titulo']) for cur in item['educacion']]))\n",
    "    preproc['habilidades'] = parse_doc_list_plain('|'.join([u'{0}:{1}'.format(cur[u'tipo'],cur[u'descripcion']) for cur in item['habilidades']]))\n",
    "    preproc[u'idiomas'] = parse_doc_list_plain('|'.join([u'{0}:{1}'.format(cur[u'idioma_nivel'],cur[u'idioma']) for cur in item[u'idiomas']]))\n",
    "    preproc[u'trabajos'] = parse_doc_list_plain('|'.join([u'{0}:{1}:{2}'.format(cur[u'empresa'],cur[u'industria'],cur[u'titulo_posicion']) for cur in item[u'trabajos']]))\n",
    "    preproc[u'uid'] = item[u'uid']\n",
    "    jlArray.append(preproc)"
   ]
  },
  {
   "cell_type": "code",
   "execution_count": null,
   "metadata": {
    "collapsed": true
   },
   "outputs": [],
   "source": []
  },
  {
   "cell_type": "code",
   "execution_count": 32,
   "metadata": {
    "collapsed": false
   },
   "outputs": [],
   "source": [
    "dfper = pd.DataFrame(jlArray)"
   ]
  },
  {
   "cell_type": "code",
   "execution_count": 33,
   "metadata": {
    "collapsed": false
   },
   "outputs": [
    {
     "name": "stdout",
     "output_type": "stream",
     "text": [
      "(0, u'uanl:lic_en_econom\\xeda|itesm:ms_en_computaci\\xf3n|universidad_nacional_autonoma_de_mexico:doctor_en_ciencias')\n",
      "(1, u'unam:lic_en_econom\\xeda|itam:ms_en_ciencia_de_datos|stanford:phd_computer_science')\n"
     ]
    }
   ],
   "source": [
    "for idx in dfper.educacion.iteritems():\n",
    "    print (idx)"
   ]
  },
  {
   "cell_type": "markdown",
   "metadata": {},
   "source": [
    "### PASO 1 : HOMOLOGACION 1"
   ]
  },
  {
   "cell_type": "code",
   "execution_count": null,
   "metadata": {
    "collapsed": true
   },
   "outputs": [],
   "source": []
  },
  {
   "cell_type": "markdown",
   "metadata": {},
   "source": [
    "### PASO 2: DEDUPLICACION"
   ]
  },
  {
   "cell_type": "code",
   "execution_count": null,
   "metadata": {
    "collapsed": true
   },
   "outputs": [],
   "source": []
  },
  {
   "cell_type": "markdown",
   "metadata": {},
   "source": [
    "### PASO 3: LIMPIEZA"
   ]
  },
  {
   "cell_type": "code",
   "execution_count": null,
   "metadata": {
    "collapsed": true
   },
   "outputs": [],
   "source": []
  },
  {
   "cell_type": "markdown",
   "metadata": {},
   "source": [
    "### PASO 4: HOMOLOGACION 2"
   ]
  },
  {
   "cell_type": "code",
   "execution_count": null,
   "metadata": {
    "collapsed": true
   },
   "outputs": [],
   "source": []
  },
  {
   "cell_type": "markdown",
   "metadata": {},
   "source": [
    "### PASO 5: DEDUPLICACION"
   ]
  },
  {
   "cell_type": "code",
   "execution_count": null,
   "metadata": {
    "collapsed": true
   },
   "outputs": [],
   "source": []
  },
  {
   "cell_type": "markdown",
   "metadata": {},
   "source": [
    "### PASO 6: CLUSTERING"
   ]
  },
  {
   "cell_type": "code",
   "execution_count": null,
   "metadata": {
    "collapsed": true
   },
   "outputs": [],
   "source": []
  }
 ],
 "metadata": {
  "kernelspec": {
   "display_name": "Python 2",
   "language": "python",
   "name": "python2"
  },
  "language_info": {
   "codemirror_mode": {
    "name": "ipython",
    "version": 2
   },
   "file_extension": ".py",
   "mimetype": "text/x-python",
   "name": "python",
   "nbconvert_exporter": "python",
   "pygments_lexer": "ipython2",
   "version": "2.7.12"
  }
 },
 "nbformat": 4,
 "nbformat_minor": 0
}
