{
 "cells": [
  {
   "cell_type": "code",
   "execution_count": 4,
   "metadata": {
    "collapsed": true
   },
   "outputs": [],
   "source": [
    "from __future__ import absolute_import, division, print_function, unicode_literals\n",
    "import pandas as pd\n",
    "import json\n",
    "import jsonlines\n",
    "import re\n",
    "import numpy as np"
   ]
  },
  {
   "cell_type": "code",
   "execution_count": 5,
   "metadata": {
    "collapsed": false
   },
   "outputs": [],
   "source": [
    "ed_data=pd.read_csv(\"data/base_juguete - Educacion.tsv\", sep='\\t',na_values=None, keep_default_na=False)\n",
    "ha_data=pd.read_csv(\"data/base_juguete - Habilidades.tsv\", sep='\\t',na_values=None, keep_default_na=False)\n",
    "la_data=pd.read_csv(\"data/base_juguete - idioma.tsv\", sep='\\t',na_values=None, keep_default_na=False)\n",
    "ot_data=pd.read_csv(\"data/base_juguete - otros.tsv\", sep='\\t',na_values=None, keep_default_na=False)\n",
    "pe_data=pd.read_csv(\"data/base_juguete - person.tsv\", sep='\\t',na_values=None, keep_default_na=False)\n",
    "tr_data=pd.read_csv(\"data/base_juguete - Trabajo.tsv\", sep='\\t',na_values=None, keep_default_na=False)\n",
    "pem_data = ot_data.merge(pe_data, on='uid')"
   ]
  },
  {
   "cell_type": "code",
   "execution_count": 6,
   "metadata": {
    "collapsed": false
   },
   "outputs": [],
   "source": [
    "####PURAS ENTIDADES\n",
    "\n",
    "class persona(object):\n",
    "    uid=\"\"\n",
    "    nombre=\"\"\n",
    "    ubicacion=\"\"\n",
    "    id=\"\"\n",
    "    \n",
    "\n",
    "class idiomas(object):\n",
    "    uid=\"\"\n",
    "    idioma=\"\"\n",
    "    IDI_NIVEL_SP=\"\"\n",
    "    IDI_NIVEL_WR=\"\"\n",
    "    IDI_NIVEL_TR=\"\"\n",
    "    IDI_NIVEL_TE=\"\"\n",
    "    \n",
    "    def __init__(self, idioma, IDI_NIVEL_SP,IDI_NIVEL_WR,IDI_NIVEL_TR,IDI_NIVEL_TE):\n",
    "        self.idioma = idioma        \n",
    "        self.IDI_NIVEL_SP=IDI_NIVEL_SP\n",
    "        self.IDI_NIVEL_WR=IDI_NIVEL_WR\n",
    "        self.IDI_NIVEL_TR=IDI_NIVEL_TR\n",
    "        self.IDI_NIVEL_TE=IDI_NIVEL_TE\n",
    "        \n",
    "        \n",
    "        \n",
    "    def __json__(self):\n",
    "        return {'IDI_NOMBRE':self.idioma, 'IDI_NIVEL_SP': self.IDI_NIVEL_SP,\n",
    "                'IDI_NIVEL_WR':self.IDI_NIVEL_WR, 'IDI_NIVEL_TR':self.IDI_NIVEL_TR,\n",
    "                'IDI_NIVEL_TE':self.IDI_NIVEL_TE }\n",
    "\n",
    "class habilidades(object):\n",
    "    ##tipo=\"\"\n",
    "    habilidades=\"\"\n",
    "    \n",
    "    def __init__(self, habilidades):\n",
    "        ##self.tipo = tipo\n",
    "        self.habilidades = habilidades\n",
    "        \n",
    "    def __json__(self):\n",
    "        return {'HAB_HABILIDAD':self.habilidades}\n",
    "\n",
    "\n",
    "class educacion(object):\n",
    "    uid=\"\"\n",
    "    institucion=\"\"\n",
    "    area=\"\"\n",
    "    fecha_inicio=\"\"\n",
    "    fecha_fin=\"\"\n",
    "    titulo=\"\"\n",
    "    extra_curriculares=\"\"\n",
    "    \n",
    "    def __init__(self,institucion, area,  titulo):        #fecha_inicio, fecha_fin,\n",
    "        self.institucion=institucion\n",
    "        self.area=area\n",
    "        #self.fecha_inicio=fecha_inicio\n",
    "        #self.fecha_fin=fecha_fin\n",
    "        self.titulo=titulo\n",
    "        #self.extra_curriculares=extra_curriculares\n",
    "        \n",
    "    def __json__(self):\n",
    "        return {'EDU_INST':self.institucion, 'EDU_AREA':self.area, 'EDU_TITULO':self.titulo}\n",
    "        \n",
    "class trabajos(object):\n",
    "    uid=\"\"\n",
    "    titulo_posicion=\"\"\n",
    "    resumen=\"\"\n",
    "    fecha_inicio=\"\"\n",
    "    fecha_fin=\"\"\n",
    "    actual=\"\"\n",
    "    empresa=\"\"\n",
    "    area=\"\"\n",
    "    tipo=\"\"\n",
    "    industria=\"\"\n",
    "    voluntariado=\"\"\n",
    "    \n",
    "    def __init__(self, titulo_posicion, empresa, area, tipo, industria, voluntariado):\n",
    "        self.titulo_posicion=titulo_posicion\n",
    "        #self.resumen=resumen\n",
    "        #self.fecha_inicio=fecha_inicio\n",
    "        #self.fecha_fin=fecha_fin\n",
    "        #self.actual=actual\n",
    "        self.empresa=empresa\n",
    "        self.area=area\n",
    "        self.tipo=tipo\n",
    "        self.industria=industria\n",
    "        #self.voluntariado=voluntariado\n",
    "        \n",
    "    def __json__(self):\n",
    "        return {'TRA_POSICION': self.titulo_posicion, 'TRA_EMPRESA': self.empresa, \n",
    "                'TRA_AREA':self.area, 'TRA_TIPO':self.tipo, 'TRA_IND':self.industria}\n",
    "        \n",
    "class talento(object):\n",
    "    uid=''\n",
    "    nombre=''\n",
    "    ubicacion=''\n",
    "    id=''\n",
    "    trabajos=[]\n",
    "    cursos = []\n",
    "    educacion = []\n",
    "    certificaciones = []\n",
    "    habilidades = []\n",
    "    idiomas = []\n",
    "    patentes = []\n",
    "    publicaciones = []    \n",
    "    \n",
    "    def __init__(self, uid, nombre, ubicacion, id):\n",
    "        self.uid = uid\n",
    "        self.nombre = nombre\n",
    "        self.ubicacion = ubicacion\n",
    "        self.id = id\n",
    "        \n",
    "    def __json__(self):\n",
    "        return {'uid': self.uid, 'nombre': self.nombre, 'ubicacion':self.ubicacion ,'id':self.id, 'trabajos':self.trabajos, \n",
    "                'educacion':self.educacion, 'habilidades':self.habilidades,\n",
    "               'idiomas':self.idiomas}\n",
    "    \n",
    "\n",
    "class MyEncoder(json.JSONEncoder):\n",
    "    \"\"\"\n",
    "    JSONEncoder subclass that leverages an object's `__json__()` method,\n",
    "    if available, to obtain its default JSON representation. \n",
    "\n",
    "    \"\"\"\n",
    "    def default(self, obj):\n",
    "        if hasattr(obj, '__json__'):\n",
    "            return obj.__json__()\n",
    "        return json.JSONEncoder.default(self, obj)\n",
    "        \n",
    "    "
   ]
  },
  {
   "cell_type": "code",
   "execution_count": 7,
   "metadata": {
    "collapsed": false
   },
   "outputs": [],
   "source": [
    "'''\n",
    "HELPERS : \n",
    "'''\n",
    "def parse_doc_list_plain(doc):        \n",
    "    '''Preprocesing method, this code dont remove the character with graphic accent.'''\n",
    "    red = ur'[^,a-z\\u00E7\\u00F1\\u00E1\\u00E9\\u00ED\\u00F3\\u00FA\\u00E0\\u00E8\\u00EC\\u00F2\\u00F9\\u00E4\\u00EB\\u00EF\\u00F6\\u00FC\\u00E2\\u00EA\\u00EE\\u00F4\\u00FB ]'\n",
    "    ##sandbox    \n",
    "    \n",
    "    art_vect = re.sub(r' +',' ', re.sub(red,'',re.sub(ur'\\u201c',' ',re.sub('\\n',' ',doc).lower()))) # Remove the most of the symbols. \n",
    "    art_vect = re.sub(',+',',',art_vect) # \n",
    "    art_vect = re.sub(', ',',',art_vect) # ,\\s\\+   remove space after comma, it could be improved\n",
    "    art_vect = re.sub('^,','',art_vect) # ,\\s\\+   remove space after comma, it could be improved    \n",
    "    art_vect = re.sub(r' ','_',art_vect) # Replace the space by underscore.\n",
    "    art_vect = re.sub(r',$','',art_vect)  # Remove the last comma character. just in case.\n",
    "    return art_vect"
   ]
  },
  {
   "cell_type": "code",
   "execution_count": 8,
   "metadata": {
    "collapsed": true
   },
   "outputs": [],
   "source": [
    "test_text = u',La mansion puprpura de Zimbagüe es la casa, que,,,hemos creado para tí, donde,...'"
   ]
  },
  {
   "cell_type": "code",
   "execution_count": 9,
   "metadata": {
    "collapsed": false
   },
   "outputs": [
    {
     "data": {
      "text/plain": [
       "u'la_mansion_puprpura_de_zimbag\\xfce_es_la_casa,que,hemos_creado_para_t\\xed,donde'"
      ]
     },
     "execution_count": 9,
     "metadata": {},
     "output_type": "execute_result"
    }
   ],
   "source": [
    "parse_doc_list_plain(test_text)"
   ]
  },
  {
   "cell_type": "code",
   "execution_count": null,
   "metadata": {
    "collapsed": false
   },
   "outputs": [],
   "source": []
  },
  {
   "cell_type": "code",
   "execution_count": 10,
   "metadata": {
    "collapsed": false
   },
   "outputs": [],
   "source": [
    "talentos_data = []\n",
    "\n",
    "for pem in pem_data.itertuples():\n",
    "    data = talento(pem.uid,pem.nombre,pem.ubicacion,pem.id)\n",
    "    match_la = la_data['uid'] == data.uid\n",
    "    match_ed = ed_data['uid'] == data.uid\n",
    "    match_ha = ha_data['uid'] == data.uid\n",
    "    match_tr = tr_data['uid'] == data.uid    \n",
    "    data.idiomas = [ idiomas(idioma = lad.idioma, IDI_NIVEL_SP=lad.IDI_NIVEL_SP, \n",
    "                             IDI_NIVEL_TE=lad.IDI_NIVEL_TE, IDI_NIVEL_TR=lad.IDI_NIVEL_TR, \n",
    "                             IDI_NIVEL_WR=lad.IDI_NIVEL_WR ) for lad in la_data[match_la].itertuples()]\n",
    "    data.educacion = [educacion(institucion = edu.institucion, area = edu.area_estudio, titulo = edu.titulo) for edu in ed_data[match_ed].itertuples()]\n",
    "    data.habilidades = [habilidades(habilidades=hab.habilidades) for hab in ha_data[match_ha].itertuples() ]\n",
    "    data.trabajos = [trabajos(titulo_posicion=tra.posicion,empresa=tra.empresa, \n",
    "                              area=tra.area, tipo=tra.tipo, voluntariado = tra.voluntariado,\n",
    "                              industria = tra.industria ) for tra in tr_data[match_tr].itertuples()]\n",
    "    talentos_data.append(json.dumps(data,cls=MyEncoder))\n"
   ]
  },
  {
   "cell_type": "code",
   "execution_count": 11,
   "metadata": {
    "collapsed": false
   },
   "outputs": [
    {
     "data": {
      "text/plain": [
       "'{\"trabajos\": [{\"TRA_IND\": \"Gobierno\", \"TRA_TIPO\": \"Publica\", \"TRA_EMPRESA\": \"Secretaria de Economia\", \"TRA_AREA\": \"Comercio Internacional\", \"TRA_POSICION\": \"Subdirector de derecho internacional\"}], \"habilidades\": [{\"HAB_HABILIDAD\": \"Microsoft Office\"}, {\"HAB_HABILIDAD\": \"R\"}], \"idiomas\": [{\"IDI_NIVEL_TR\": \"Ingles\", \"IDI_NIVEL_WR\": \"\", \"IDI_NIVEL_SP\": \"\", \"IDI_NOMBRE\": \"Ingles\", \"IDI_NIVEL_TE\": \"\"}, {\"IDI_NIVEL_TR\": \"\", \"IDI_NIVEL_WR\": \"\", \"IDI_NIVEL_SP\": \"\", \"IDI_NOMBRE\": \"Espanol\", \"IDI_NIVEL_TE\": \"Espanol\"}], \"uid\": \"2b111e54-4583-479b-af56-bb05f56c940c\", \"educacion\": [{\"EDU_AREA\": \"Ciencias Sociales\", \"EDU_TITULO\": \"Lic. en Derecho\", \"EDU_INST\": \"UNAM\"}], \"ubicacion\": \"Puebla\", \"nombre\": \"Diego Arzamendi\", \"id\": 3}'"
      ]
     },
     "execution_count": 11,
     "metadata": {},
     "output_type": "execute_result"
    }
   ],
   "source": [
    "talentos_data[2]"
   ]
  },
  {
   "cell_type": "markdown",
   "metadata": {},
   "source": [
    "### PASO 0 : Preprocesamiento"
   ]
  },
  {
   "cell_type": "code",
   "execution_count": 12,
   "metadata": {
    "collapsed": false
   },
   "outputs": [],
   "source": [
    "jlArray = []\n",
    "for item in jsonlines.Reader(talentos_data).iter():\n",
    "    preproc = {}    \n",
    "    preproc[u'ID'] = item[u'id']\n",
    "    preproc[u'uid'] = item[u'uid']\n",
    "    preproc[u'INF_UBICACION']=item[u'ubicacion']\n",
    "    preproc[u'ID_NOMBRE']=item[u'nombre']\n",
    "    preproc[u'IDI_NOMBRE'] = parse_doc_list_plain(','.join([u'{0}'.format(cur[u'IDI_NOMBRE']) for cur in item[u'idiomas'] if cur != np.nan ]))\n",
    "    preproc[u'IDI_NIVEL_SP'] = parse_doc_list_plain(','.join([u'{0}'.format(cur[u'IDI_NIVEL_SP']) for cur in item[u'idiomas'] if cur != '']))\n",
    "    preproc[u'IDI_NIVEL_WR'] = parse_doc_list_plain(','.join([u'{0}'.format(cur[u'IDI_NIVEL_WR']) for cur in item[u'idiomas'] if cur != '']))\n",
    "    preproc[u'IDI_NIVEL_TR'] = parse_doc_list_plain(','.join([u'{0}'.format(cur[u'IDI_NIVEL_TR']) for cur in item[u'idiomas'] if cur != '']))\n",
    "    preproc[u'IDI_NIVEL_TE'] = parse_doc_list_plain(','.join([u'{0}'.format(cur[u'IDI_NIVEL_TE']) for cur in item[u'idiomas'] if cur != '']))\n",
    "    preproc[u'EDU_INST'] = parse_doc_list_plain(','.join([u'{0}'.format(cur[u'EDU_INST']) for cur in item['educacion'] if cur != 'NaN']))\n",
    "    preproc[u'EDU_TITULO'] = parse_doc_list_plain(','.join([u'{0}'.format(cur[u'EDU_TITULO']) for cur in item['educacion'] if cur != 'NaN']))\n",
    "    preproc[u'EDU_AREA'] = parse_doc_list_plain(','.join([u'{0}'.format(cur[u'EDU_AREA']) for cur in item['educacion'] if cur != 'NaN']))\n",
    "    preproc['HAB_HABILIDAD'] = parse_doc_list_plain(','.join([u'{0}'.format(cur[u'HAB_HABILIDAD']) for cur in item['habilidades'] if cur != 'NaN']))\n",
    "    preproc[u'TRA_EMPRESA'] = parse_doc_list_plain(','.join([u'{0}'.format(cur[u'TRA_EMPRESA']) for cur in item[u'trabajos'] if cur != 'NaN']))\n",
    "    preproc[u'TRA_AREA'] = parse_doc_list_plain(','.join([u'{0}'.format(cur[u'TRA_AREA']) for cur in item[u'trabajos'] if cur != 'NaN']))\n",
    "    preproc[u'TRA_POSICION'] = parse_doc_list_plain(','.join([u'{0}'.format(cur[u'TRA_POSICION']) for cur in item[u'trabajos'] if cur != 'NaN']))\n",
    "    preproc[u'TRA_TIPO'] = parse_doc_list_plain(','.join([u'{0}'.format(cur[u'TRA_TIPO']) for cur in item[u'trabajos'] if cur != 'NaN']))\n",
    "    preproc[u'TRA_IND'] = parse_doc_list_plain(','.join([u'{0}'.format(cur[u'TRA_IND']) for cur in item[u'trabajos'] if cur != 'NaN']))\n",
    "    jlArray.append(preproc)"
   ]
  },
  {
   "cell_type": "code",
   "execution_count": 13,
   "metadata": {
    "collapsed": false
   },
   "outputs": [],
   "source": [
    "dfper = pd.DataFrame(jlArray)"
   ]
  },
  {
   "cell_type": "code",
   "execution_count": 39,
   "metadata": {
    "collapsed": false
   },
   "outputs": [],
   "source": [
    "dfper.to_csv('talentos.csv')"
   ]
  },
  {
   "cell_type": "markdown",
   "metadata": {},
   "source": [
    "### PASO 1 : HOMOLOGACION 1"
   ]
  },
  {
   "cell_type": "code",
   "execution_count": null,
   "metadata": {
    "collapsed": true
   },
   "outputs": [],
   "source": []
  },
  {
   "cell_type": "markdown",
   "metadata": {},
   "source": [
    "### PASO 2: DEDUPLICACION"
   ]
  },
  {
   "cell_type": "code",
   "execution_count": null,
   "metadata": {
    "collapsed": true
   },
   "outputs": [],
   "source": []
  },
  {
   "cell_type": "markdown",
   "metadata": {},
   "source": [
    "### PASO 3: LIMPIEZA"
   ]
  },
  {
   "cell_type": "code",
   "execution_count": null,
   "metadata": {
    "collapsed": true
   },
   "outputs": [],
   "source": []
  },
  {
   "cell_type": "markdown",
   "metadata": {},
   "source": [
    "### PASO 4: HOMOLOGACION 2"
   ]
  },
  {
   "cell_type": "code",
   "execution_count": null,
   "metadata": {
    "collapsed": true
   },
   "outputs": [],
   "source": []
  },
  {
   "cell_type": "markdown",
   "metadata": {},
   "source": [
    "### PASO 5: DEDUPLICACION"
   ]
  },
  {
   "cell_type": "code",
   "execution_count": null,
   "metadata": {
    "collapsed": true
   },
   "outputs": [],
   "source": []
  },
  {
   "cell_type": "markdown",
   "metadata": {},
   "source": [
    "### PASO 6: CLUSTERING"
   ]
  },
  {
   "cell_type": "code",
   "execution_count": null,
   "metadata": {
    "collapsed": true
   },
   "outputs": [],
   "source": []
  }
 ],
 "metadata": {
  "kernelspec": {
   "display_name": "Python 2",
   "language": "python",
   "name": "python2"
  },
  "language_info": {
   "codemirror_mode": {
    "name": "ipython",
    "version": 2
   },
   "file_extension": ".py",
   "mimetype": "text/x-python",
   "name": "python",
   "nbconvert_exporter": "python",
   "pygments_lexer": "ipython2",
   "version": "2.7.12"
  }
 },
 "nbformat": 4,
 "nbformat_minor": 0
}
