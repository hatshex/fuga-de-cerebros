{
 "cells": [
  {
   "cell_type": "markdown",
   "metadata": {},
   "source": [
    "### Conexión a Neo4j\n"
   ]
  },
  {
   "cell_type": "code",
   "execution_count": 24,
   "metadata": {
    "collapsed": true
   },
   "outputs": [],
   "source": [
    "from py2neo import Graph\n",
    "g = Graph(password=\"test1234\")"
   ]
  },
  {
   "cell_type": "markdown",
   "metadata": {},
   "source": [
    "### Queriar estructura\n",
    "\n"
   ]
  },
  {
   "cell_type": "code",
   "execution_count": 2,
   "metadata": {
    "collapsed": false
   },
   "outputs": [
    {
     "data": {
      "text/plain": [
       "[{'nodes': [(e784ee2:AlmaMater {count:7,name:\"AlmaMater\"}),\n",
       "   (ac63010:Empresa {count:3,name:\"Empresa\"}),\n",
       "   (fde1e27:Experiencia {count:5,name:\"Experiencia\"}),\n",
       "   (ee11637:Grado {count:14,name:\"Grado\"}),\n",
       "   (e3e8b8c:Habilidad {count:9,name:\"Habilidad\"}),\n",
       "   (b2a7165:Idioma {count:4,name:\"Idioma\"}),\n",
       "   (d5da90f:Proyecto {count:3,name:\"Proyecto\"}),\n",
       "   (d9a7303:Talento {count:11,name:\"Talento\"}),\n",
       "   (adcd3c7:Ubicacion {count:6,name:\"Ubicacion\"})],\n",
       "  'relationships': [(d9a7303)-[:UBICADO_EN {count:11,type:\"UBICADO_EN\"}]->(adcd3c7),\n",
       "   (d9a7303)-[:FLUYENTES_EN {count:26,type:\"FLUYENTES_EN\"}]->(b2a7165),\n",
       "   (ac63010)-[:TIENE_PROYECTO {count:3,type:\"TIENE_PROYECTO\"}]->(d5da90f),\n",
       "   (d5da90f)-[:DESEA_EGRESADOS_DE {count:7,type:\"DESEA_EGRESADOS_DE\"}]->(e784ee2),\n",
       "   (d9a7303)-[:EGRESADO_DE {count:15,type:\"EGRESADO_DE\"}]->(e784ee2),\n",
       "   (d9a7303)-[:TIENE_HABILIDADES {count:26,type:\"TIENE_HABILIDADES\"}]->(e3e8b8c),\n",
       "   (d5da90f)-[:BUSCA_GRADO {count:5,type:\"BUSCA_GRADO\"}]->(ee11637),\n",
       "   (d5da90f)-[:BUSCA_EXPERIENCIA {count:7,type:\"BUSCA_EXPERIENCIA\"}]->(fde1e27),\n",
       "   (d5da90f)-[:BUSCA_HABILIDAD {count:5,type:\"BUSCA_HABILIDAD\"}]->(e3e8b8c),\n",
       "   (d5da90f)-[:FLUYENTES_EN {count:8,type:\"FLUYENTES_EN\"}]->(b2a7165),\n",
       "   (d5da90f)-[:UBICADO_EN {count:3,type:\"UBICADO_EN\"}]->(adcd3c7),\n",
       "   (d9a7303)-[:EGRESADO_EN {count:16,type:\"EGRESADO_EN\"}]->(ee11637)]}]"
      ]
     },
     "execution_count": 2,
     "metadata": {},
     "output_type": "execute_result"
    }
   ],
   "source": [
    "g.run(\"\"\"\n",
    "CALL apoc.meta.graph\n",
    "    \"\"\").data()"
   ]
  },
  {
   "cell_type": "markdown",
   "metadata": {},
   "source": [
    "### 1.1 Query Especialidad en nodos"
   ]
  },
  {
   "cell_type": "code",
   "execution_count": 4,
   "metadata": {
    "collapsed": false
   },
   "outputs": [
    {
     "data": {
      "text/plain": [
       "[{'g': (b5ecf0e:Grado {grados:\"Lic. en Matematicas\"}),\n",
       "  'p': (f2c53b1:Proyecto {almaMater:\"ITAM,UNAM,ITESM,IBERO\",descripcion:\"Analizar las distintas variables geograficas y medioambientales para la determinacionn de puntos optimos para la extraccion de minerales\",entregable:\"Algoritmo de goptimizacion de areas productivas\",experiencia:\"Ciencia de Datos,Estadistica\",grados:\"Lic. en Economia,Lic. en Matematicas\",habilidades:\"Microsoft Office\",id:\"2\",idiomas:\"Ingles,Espanol\",lugar:\"Ciudad de Mexico\",objetivoP:\"Optimizar las areas de extraccion de minerales\",pago:\"150000\",proyecto:\"Analisis de geolocalizacion de minerales\"}),\n",
       "  't': (a4f4fd0:Talento {almaMater:\"ITAM\",departamento:\"Planeacion\",empresa:\"Secretaria de Energia\",grados:\"Lic. en Matematicas\",habilidades:\"STATA,Mathlab,R,Microsoft Office\",id:\"9\",idiomas:\"Ingles,Espanol,Frances\",industria:\"Gobierno\",nacimiento:\"09/12/87\",nombre:\"Samuel Cohen\",posicion:\"Subdirector de Analisis de Precios de Energia\",sector:\"Publica\"})},\n",
       " {'g': (b5ecf0e:Grado {grados:\"Lic. en Matematicas\"}),\n",
       "  'p': (f2c53b1:Proyecto {almaMater:\"ITAM,UNAM,ITESM,IBERO\",descripcion:\"Analizar las distintas variables geograficas y medioambientales para la determinacionn de puntos optimos para la extraccion de minerales\",entregable:\"Algoritmo de goptimizacion de areas productivas\",experiencia:\"Ciencia de Datos,Estadistica\",grados:\"Lic. en Economia,Lic. en Matematicas\",habilidades:\"Microsoft Office\",id:\"2\",idiomas:\"Ingles,Espanol\",lugar:\"Ciudad de Mexico\",objetivoP:\"Optimizar las areas de extraccion de minerales\",pago:\"150000\",proyecto:\"Analisis de geolocalizacion de minerales\"}),\n",
       "  't': (e8a15d8:Talento {almaMater:\"UANL,ITAM\",departamento:\"Riegos\",empresa:\"Banregio\",grados:\"Lic. en Matematicas,M.S. en Ciencia de Datos\",habilidades:\"STATA,EVIEWS,Microsoft Office\",id:\"2\",idiomas:\"Ingles,Espanol\",industria:\"Banca\",nacimiento:\"01/03/90\",nombre:\"Dennise Martinez\",posicion:\"Analista de riesgo\",sector:\"Privada\"})},\n",
       " {'g': (a3bd6d1:Grado {grados:\"Lic. en Economia\"}),\n",
       "  'p': (f2c53b1:Proyecto {almaMater:\"ITAM,UNAM,ITESM,IBERO\",descripcion:\"Analizar las distintas variables geograficas y medioambientales para la determinacionn de puntos optimos para la extraccion de minerales\",entregable:\"Algoritmo de goptimizacion de areas productivas\",experiencia:\"Ciencia de Datos,Estadistica\",grados:\"Lic. en Economia,Lic. en Matematicas\",habilidades:\"Microsoft Office\",id:\"2\",idiomas:\"Ingles,Espanol\",lugar:\"Ciudad de Mexico\",objetivoP:\"Optimizar las areas de extraccion de minerales\",pago:\"150000\",proyecto:\"Analisis de geolocalizacion de minerales\"}),\n",
       "  't': (c36a475:Talento {almaMater:\"ITAM, UNAM\",departamento:\"Comercial\",empresa:\"Bancomer\",grados:\"Lic. en Economia,M.S. en Ciencia de Datos\",habilidades:\"SQL,Python,R,STATA,Neo4j\",id:\"1\",idiomas:\"Ingles,Aleman,Espanol\",industria:\"Banca\",nacimiento:\"20/01/85\",nombre:\"Horacio Ramirez\",posicion:\"Analista Comercial\",sector:\"Privada\"})}]"
      ]
     },
     "execution_count": 4,
     "metadata": {},
     "output_type": "execute_result"
    }
   ],
   "source": [
    "g.run(\"\"\"\n",
    "MATCH (p:Proyecto {id: '2'} )\n",
    "WHERE (p.grados CONTAINS 'Matematicas' OR p.grados CONTAINS 'Economia')\n",
    "MATCH (p)-[:BUSCA_GRADO]->(g)-[:EGRESADO_EN]-(t)\n",
    "RETURN p,g,t\n",
    "\"\"\").data()"
   ]
  },
  {
   "cell_type": "markdown",
   "metadata": {
    "collapsed": false
   },
   "source": [
    "### 1.1 Grado de Estudio y programa académico (Licenciatura en X, Maestría en X, Doctorado en X)"
   ]
  },
  {
   "cell_type": "code",
   "execution_count": 26,
   "metadata": {
    "collapsed": false
   },
   "outputs": [
    {
     "data": {
      "text/plain": [
       "[{'g.grados': 'Lic. en Matematicas', 't.nombre': 'Dennise Martinez'},\n",
       " {'g.grados': 'Lic. en Matematicas', 't.nombre': 'Samuel Cohen'},\n",
       " {'g.grados': 'Lic. en Economia', 't.nombre': 'Horacio Ramirez'}]"
      ]
     },
     "execution_count": 26,
     "metadata": {},
     "output_type": "execute_result"
    }
   ],
   "source": [
    "q_estudio = g.run(\"\"\"\n",
    "MATCH (p:Proyecto {id: '2'} )\n",
    "WHERE (p.grados CONTAINS 'Matematicas' OR p.grados CONTAINS 'Economia')\n",
    "MATCH (p)-[:BUSCA_GRADO]->(g)<-[:EGRESADO_EN]-(t)\n",
    "RETURN t.nombre, g.grados\n",
    "\"\"\").data()\n",
    "\n",
    "q_estudio"
   ]
  },
  {
   "cell_type": "markdown",
   "metadata": {},
   "source": [
    "### 1.2 Área de Especialidad (Física de partículas, Biotecnología, Derecho penal, etc)\n"
   ]
  },
  {
   "cell_type": "code",
   "execution_count": 27,
   "metadata": {
    "collapsed": false
   },
   "outputs": [
    {
     "data": {
      "text/plain": [
       "[{'t.area': 'Antropologia Social',\n",
       "  't.grados': 'Lic. en Antropologia,M.S. en Sociologia',\n",
       "  't.nombre': 'Andrea Ortega'},\n",
       " {'t.area': 'Antropologia Social',\n",
       "  't.grados': 'Lic. en Antropologia',\n",
       "  't.nombre': 'Claudia Martinez'}]"
      ]
     },
     "execution_count": 27,
     "metadata": {},
     "output_type": "execute_result"
    }
   ],
   "source": [
    "q_especialidad = g.run(\"\"\"\n",
    "MATCH (t: Talento)\n",
    "WHERE (t.area CONTAINS 'Antropologia')\n",
    "RETURN t.nombre, t.grados, t.area\n",
    "\"\"\").data()\n",
    "\n",
    "q_especialidad"
   ]
  },
  {
   "cell_type": "markdown",
   "metadata": {},
   "source": [
    "### 2.1  Sector (Público, Privado, Academia – Investigación, Academia – Docencia, Emprendedor)"
   ]
  },
  {
   "cell_type": "code",
   "execution_count": 18,
   "metadata": {
    "collapsed": false
   },
   "outputs": [
    {
     "data": {
      "text/plain": [
       "[{'t.nombre': 'Horacio Ramirez', 't.sector': 'Privada'},\n",
       " {'t.nombre': 'Dennise Martinez', 't.sector': 'Privada'},\n",
       " {'t.nombre': 'David Jaramillo', 't.sector': 'Privada, Privada'},\n",
       " {'t.nombre': 'Jorge Santoy', 't.sector': 'Privada'}]"
      ]
     },
     "execution_count": 18,
     "metadata": {},
     "output_type": "execute_result"
    }
   ],
   "source": [
    "q_sector = g.run(\"\"\"\n",
    "MATCH (t: Talento)\n",
    "WHERE (t.sector CONTAINS 'Privada')\n",
    "RETURN t.nombre, t.sector\n",
    "\"\"\").data()\n",
    "\n",
    "q_sector"
   ]
  },
  {
   "cell_type": "markdown",
   "metadata": {},
   "source": [
    "### 2.2 Institución (Empresa, Organización, Dependencia, Universidad etc) "
   ]
  },
  {
   "cell_type": "code",
   "execution_count": 17,
   "metadata": {
    "collapsed": false
   },
   "outputs": [
    {
     "data": {
      "text/plain": [
       "[{'t.empresa': 'Secretaria de Economia', 't.nombre': 'Diego Arzamendi'},\n",
       " {'t.empresa': 'Secretaria de Economia', 't.nombre': 'Sergio Lopez'},\n",
       " {'t.empresa': 'Secretaria de Energia', 't.nombre': 'Samuel Cohen'}]"
      ]
     },
     "execution_count": 17,
     "metadata": {},
     "output_type": "execute_result"
    }
   ],
   "source": [
    "q_institucion = g.run(\"\"\"\n",
    "MATCH (t: Talento)\n",
    "WHERE (t.empresa CONTAINS 'Secretaria')\n",
    "RETURN t.nombre, t.empresa\n",
    "\"\"\").data()\n",
    "\n",
    "q_institucion"
   ]
  },
  {
   "cell_type": "markdown",
   "metadata": {},
   "source": [
    "### 2.3 Puesto/Cargo\n"
   ]
  },
  {
   "cell_type": "code",
   "execution_count": 20,
   "metadata": {
    "collapsed": false
   },
   "outputs": [
    {
     "data": {
      "text/plain": [
       "[{'t.nombre': 'Andrea Ortega', 't.posicion': 'Investigadora'},\n",
       " {'t.nombre': 'Claudia Martinez', 't.posicion': 'Investigadora'},\n",
       " {'t.nombre': 'Armando Covarrubias', 't.posicion': 'Investigador'}]"
      ]
     },
     "execution_count": 20,
     "metadata": {},
     "output_type": "execute_result"
    }
   ],
   "source": [
    "q_cargo = g.run(\"\"\"\n",
    "MATCH (t: Talento)\n",
    "WHERE (t.posicion CONTAINS 'Investigador')\n",
    "RETURN t.nombre, t.posicion\n",
    "\"\"\").data()\n",
    "q_cargo"
   ]
  },
  {
   "cell_type": "markdown",
   "metadata": {
    "collapsed": true
   },
   "source": [
    "### 3.1 Por habilidades"
   ]
  },
  {
   "cell_type": "code",
   "execution_count": 28,
   "metadata": {
    "collapsed": false
   },
   "outputs": [
    {
     "data": {
      "text/plain": [
       "[{'t.habilidades': 'SQL,Python,R,STATA,Neo4j', 't.nombre': 'Horacio Ramirez'},\n",
       " {'t.habilidades': 'R,Microsoft Office', 't.nombre': 'Diego Arzamendi'},\n",
       " {'t.habilidades': 'STATA,Mathlab,R,Microsoft Office',\n",
       "  't.nombre': 'Samuel Cohen'},\n",
       " {'t.habilidades': 'R,Microsoft Office', 't.nombre': 'Armando Covarrubias'}]"
      ]
     },
     "execution_count": 28,
     "metadata": {},
     "output_type": "execute_result"
    }
   ],
   "source": [
    "q_habilidades = g.run(\"\"\"\n",
    "MATCH (t: Talento)\n",
    "WHERE (t.habilidades CONTAINS 'R')\n",
    "RETURN t.nombre, t.habilidades\n",
    "\"\"\").data()\n",
    "\n",
    "q_habilidades"
   ]
  },
  {
   "cell_type": "code",
   "execution_count": 29,
   "metadata": {
    "collapsed": false
   },
   "outputs": [
    {
     "data": {
      "text/plain": [
       "[{'t.lugar': 'Ciudad de Mexico',\n",
       "  't.nacimiento': '09/12/87',\n",
       "  't.nombre': 'Samuel Cohen'}]"
      ]
     },
     "execution_count": 29,
     "metadata": {},
     "output_type": "execute_result"
    }
   ],
   "source": [
    "q_super = g.run(\"\"\"\n",
    "MATCH (p:Proyecto) WHERE p.id = '2'\n",
    "MATCH (t:Talento)\n",
    "WHERE t.grados CONTAINS 'Ciencia de Datos' OR t.grados CONTAINS 'Computacion' OR t.grados CONTAINS 'Matematicas'\n",
    "MATCH (p)-[:DESEA_EGRESADOS_DE]->(a:AlmaMater {almaMater: 'ITAM'})<-[:EGRESADO_DE]-(t)\n",
    "WHERE t.area CONTAINS 'Ciencias Sociales' AND t.idiomas CONTAINS 'Frances' AND t.departamento CONTAINS 'Planeacion'\n",
    "RETURN t.nombre, t.nacimiento, t.lugar\n",
    "\"\"\").data()\n",
    "\n",
    "q_super"
   ]
  },
  {
   "cell_type": "code",
   "execution_count": null,
   "metadata": {
    "collapsed": true
   },
   "outputs": [],
   "source": []
  }
 ],
 "metadata": {
  "kernelspec": {
   "display_name": "Python 3",
   "language": "python",
   "name": "python3"
  },
  "language_info": {
   "codemirror_mode": {
    "name": "ipython",
    "version": 3
   },
   "file_extension": ".py",
   "mimetype": "text/x-python",
   "name": "python",
   "nbconvert_exporter": "python",
   "pygments_lexer": "ipython3",
   "version": "3.5.2"
  }
 },
 "nbformat": 4,
 "nbformat_minor": 1
}